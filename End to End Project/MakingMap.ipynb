{
 "cells": [
  {
   "cell_type": "code",
   "execution_count": 71,
   "metadata": {},
   "outputs": [],
   "source": [
    "import pandas as pd\n",
    "import folium\n",
    "from folium.plugins import MarkerCluster"
   ]
  },
  {
   "cell_type": "code",
   "execution_count": 72,
   "metadata": {},
   "outputs": [],
   "source": [
    "df = pd.read_csv(\"D:\\Portfolio\\WebScraping\\Pararius\\pararius_refined_latlong.csv\")"
   ]
  },
  {
   "cell_type": "code",
   "execution_count": 73,
   "metadata": {},
   "outputs": [
    {
     "data": {
      "text/html": [
       "<div>\n",
       "<style scoped>\n",
       "    .dataframe tbody tr th:only-of-type {\n",
       "        vertical-align: middle;\n",
       "    }\n",
       "\n",
       "    .dataframe tbody tr th {\n",
       "        vertical-align: top;\n",
       "    }\n",
       "\n",
       "    .dataframe thead th {\n",
       "        text-align: right;\n",
       "    }\n",
       "</style>\n",
       "<table border=\"1\" class=\"dataframe\">\n",
       "  <thead>\n",
       "    <tr style=\"text-align: right;\">\n",
       "      <th></th>\n",
       "      <th>title</th>\n",
       "      <th>type</th>\n",
       "      <th>interior</th>\n",
       "      <th>address</th>\n",
       "      <th>zipcode</th>\n",
       "      <th>zip_num</th>\n",
       "      <th>city</th>\n",
       "      <th>district</th>\n",
       "      <th>area_square_meter</th>\n",
       "      <th>room</th>\n",
       "      <th>monthly_price_euro</th>\n",
       "      <th>Lat</th>\n",
       "      <th>Long</th>\n",
       "    </tr>\n",
       "  </thead>\n",
       "  <tbody>\n",
       "    <tr>\n",
       "      <th>0</th>\n",
       "      <td>Apartment Prinsengracht</td>\n",
       "      <td>Apartment</td>\n",
       "      <td>Upholstered or furnished</td>\n",
       "      <td>Prinsengracht</td>\n",
       "      <td>1015DR</td>\n",
       "      <td>1015</td>\n",
       "      <td>Amsterdam</td>\n",
       "      <td>Grachtengordel-West</td>\n",
       "      <td>104</td>\n",
       "      <td>3</td>\n",
       "      <td>3750.0</td>\n",
       "      <td>52.378342</td>\n",
       "      <td>4.886818</td>\n",
       "    </tr>\n",
       "    <tr>\n",
       "      <th>1</th>\n",
       "      <td>Apartment Raadhuisstraat</td>\n",
       "      <td>Apartment</td>\n",
       "      <td>Not Mentioned</td>\n",
       "      <td>Raadhuisstraat</td>\n",
       "      <td>1016DE</td>\n",
       "      <td>1016</td>\n",
       "      <td>Amsterdam</td>\n",
       "      <td>Grachtengordel-West</td>\n",
       "      <td>70</td>\n",
       "      <td>4</td>\n",
       "      <td>2150.0</td>\n",
       "      <td>52.373359</td>\n",
       "      <td>4.888063</td>\n",
       "    </tr>\n",
       "    <tr>\n",
       "      <th>2</th>\n",
       "      <td>Apartment Eerste Jan van der Heijdenstraat 111 1A</td>\n",
       "      <td>Apartment</td>\n",
       "      <td>Furnished</td>\n",
       "      <td>Eerste Jan van der Heijdenstraat 111 1A</td>\n",
       "      <td>1072TN</td>\n",
       "      <td>1072</td>\n",
       "      <td>Amsterdam</td>\n",
       "      <td>Oude Pijp</td>\n",
       "      <td>33</td>\n",
       "      <td>2</td>\n",
       "      <td>1600.0</td>\n",
       "      <td>52.353406</td>\n",
       "      <td>4.890299</td>\n",
       "    </tr>\n",
       "    <tr>\n",
       "      <th>3</th>\n",
       "      <td>Apartment Kikkenstein 3734</td>\n",
       "      <td>Apartment</td>\n",
       "      <td>Not Mentioned</td>\n",
       "      <td>Kikkenstein 3734</td>\n",
       "      <td>1104TW</td>\n",
       "      <td>1104</td>\n",
       "      <td>Amsterdam</td>\n",
       "      <td>Bijlmer Oost E,G,K</td>\n",
       "      <td>94</td>\n",
       "      <td>4</td>\n",
       "      <td>1550.0</td>\n",
       "      <td>52.317064</td>\n",
       "      <td>4.973040</td>\n",
       "    </tr>\n",
       "    <tr>\n",
       "      <th>4</th>\n",
       "      <td>Apartment Geuzenstraat 74</td>\n",
       "      <td>Apartment</td>\n",
       "      <td>Not Mentioned</td>\n",
       "      <td>Geuzenstraat 74</td>\n",
       "      <td>1056KG</td>\n",
       "      <td>1056</td>\n",
       "      <td>Amsterdam</td>\n",
       "      <td>Geuzenbuurt</td>\n",
       "      <td>87</td>\n",
       "      <td>3</td>\n",
       "      <td>2500.0</td>\n",
       "      <td>52.372784</td>\n",
       "      <td>4.865235</td>\n",
       "    </tr>\n",
       "  </tbody>\n",
       "</table>\n",
       "</div>"
      ],
      "text/plain": [
       "                                               title       type  \\\n",
       "0                            Apartment Prinsengracht  Apartment   \n",
       "1                           Apartment Raadhuisstraat  Apartment   \n",
       "2  Apartment Eerste Jan van der Heijdenstraat 111 1A  Apartment   \n",
       "3                         Apartment Kikkenstein 3734  Apartment   \n",
       "4                          Apartment Geuzenstraat 74  Apartment   \n",
       "\n",
       "                   interior                                  address zipcode  \\\n",
       "0  Upholstered or furnished                            Prinsengracht  1015DR   \n",
       "1             Not Mentioned                           Raadhuisstraat  1016DE   \n",
       "2                 Furnished  Eerste Jan van der Heijdenstraat 111 1A  1072TN   \n",
       "3             Not Mentioned                         Kikkenstein 3734  1104TW   \n",
       "4             Not Mentioned                          Geuzenstraat 74  1056KG   \n",
       "\n",
       "   zip_num       city             district  area_square_meter  room  \\\n",
       "0     1015  Amsterdam  Grachtengordel-West                104     3   \n",
       "1     1016  Amsterdam  Grachtengordel-West                 70     4   \n",
       "2     1072  Amsterdam            Oude Pijp                 33     2   \n",
       "3     1104  Amsterdam   Bijlmer Oost E,G,K                 94     4   \n",
       "4     1056  Amsterdam          Geuzenbuurt                 87     3   \n",
       "\n",
       "   monthly_price_euro        Lat      Long  \n",
       "0              3750.0  52.378342  4.886818  \n",
       "1              2150.0  52.373359  4.888063  \n",
       "2              1600.0  52.353406  4.890299  \n",
       "3              1550.0  52.317064  4.973040  \n",
       "4              2500.0  52.372784  4.865235  "
      ]
     },
     "execution_count": 73,
     "metadata": {},
     "output_type": "execute_result"
    }
   ],
   "source": [
    "df.head()"
   ]
  },
  {
   "cell_type": "code",
   "execution_count": 74,
   "metadata": {},
   "outputs": [],
   "source": [
    "#Remove null locations\n",
    "\n",
    "df = df[df['Lat'].notnull() ]\n",
    "df = df[df['Long'].notnull() ]"
   ]
  },
  {
   "cell_type": "code",
   "execution_count": 75,
   "metadata": {},
   "outputs": [],
   "source": [
    "# Build base map\n",
    "\n",
    "m = folium.Map(location=[52.378342,4.886818],tiles=\"OpenStreetMap\",zoom_start=5)"
   ]
  },
  {
   "cell_type": "code",
   "execution_count": 76,
   "metadata": {},
   "outputs": [],
   "source": [
    "MarkerCluster = MarkerCluster().add_to(m)"
   ]
  },
  {
   "cell_type": "code",
   "execution_count": 77,
   "metadata": {},
   "outputs": [],
   "source": [
    "for i,row in df.iterrows():\n",
    "    lat = df.at[i,'Lat']\n",
    "    long = df.at[i,'Long']\n",
    "    room = df.at[i,'room']\n",
    "    price = df.at[i,'monthly_price_euro']\n",
    "    text_box = 'Price: '+str(price)+'<br>'+'Room: '+str(room)\n",
    "    folium.Marker(location=[lat,long],popup=text_box,icon = folium.Icon(color='red')).add_to(MarkerCluster)"
   ]
  },
  {
   "cell_type": "code",
   "execution_count": 78,
   "metadata": {},
   "outputs": [],
   "source": [
    "m.save(\"D:\\Portfolio\\WebScraping\\Pararius\\map.html\")"
   ]
  },
  {
   "cell_type": "code",
   "execution_count": null,
   "metadata": {},
   "outputs": [],
   "source": []
  }
 ],
 "metadata": {
  "kernelspec": {
   "display_name": "Python 3.9.7 64-bit",
   "language": "python",
   "name": "python3"
  },
  "language_info": {
   "codemirror_mode": {
    "name": "ipython",
    "version": 3
   },
   "file_extension": ".py",
   "mimetype": "text/x-python",
   "name": "python",
   "nbconvert_exporter": "python",
   "pygments_lexer": "ipython3",
   "version": "3.9.7"
  },
  "orig_nbformat": 4,
  "vscode": {
   "interpreter": {
    "hash": "13a35d56a18aab55447c6b2a1b9b865bd614175796a23fc49a0d7cf54bafbbb5"
   }
  }
 },
 "nbformat": 4,
 "nbformat_minor": 2
}

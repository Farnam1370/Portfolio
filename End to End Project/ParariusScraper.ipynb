{
 "cells": [
  {
   "cell_type": "code",
   "execution_count": 1,
   "metadata": {},
   "outputs": [],
   "source": [
    "import pandas as pd\n",
    "from bs4 import BeautifulSoup\n",
    "import time\n",
    "import datetime\n",
    "import requests\n",
    "from csv import writer\n",
    "\n"
   ]
  },
  {
   "cell_type": "code",
   "execution_count": 2,
   "metadata": {},
   "outputs": [],
   "source": [
    "\n",
    "\n",
    "headers = {\"User-Agent\": \"Mozilla/5.0 (Windows NT 10.0; Win64; x64) AppleWebKit/537.36 (KHTML, like Gecko) Chrome/103.0.0.0 Safari/537.36\", \"Accept-Encoding\":\"gzip, deflate\", \"Accept\":\"text/html,application/xhtml+xml,application/xml;q=0.9,*/*;q=0.8\", \"DNT\":\"1\",\"Connection\":\"close\", \"Upgrade-Insecure-Requests\":\"1\"}\n",
    "#with open('D:\\Portfolio\\WebScraping\\Pararius\\pararius_dataset.csv','a+',encoding='utf8',newline='') as f:\n",
    "        #thewriter = writer(f)\n",
    "        #header = ['title','zipcode','price','area','room','interior']\n",
    "        #thewriter.writerow(header)\n",
    "\n",
    "# Put last page + 1 in range below as last page number\n",
    "for j in range(1,20):\n",
    "    URL = f'https://www.pararius.com/apartments/amsterdam/page-{j}'\n",
    "    page = requests.get(URL, headers=headers)\n",
    "    soup = BeautifulSoup(page.content, \"lxml\")\n",
    "    section = soup.find_all('section', class_ = 'listing-search-item listing-search-item--list listing-search-item--for-rent')\n",
    "\n",
    "    with open('D:\\Portfolio\\WebScraping\\Pararius\\pararius_dataset.csv','a+',encoding='utf8',newline='') as f:\n",
    "        thewriter = writer(f)\n",
    "        for i in section:\n",
    "            title = i.find('a', class_ = 'listing-search-item__link listing-search-item__link--title').get_text().strip()\n",
    "            zipcode = i.find('div', class_ = 'listing-search-item__sub-title').get_text().strip()\n",
    "            price = i.find('div', class_ = 'listing-search-item__price').get_text().strip()\n",
    "            area = i.find('li', class_ = 'illustrated-features__item illustrated-features__item--surface-area').get_text().strip()\n",
    "            room = i.find('li', class_ = 'illustrated-features__item illustrated-features__item--number-of-rooms').get_text().strip()\n",
    "            if i.find('li', class_ = 'illustrated-features__item--interior') is None:\n",
    "                interior = 'Not Mentioned'\n",
    "            else:\n",
    "                interior = i.find('li', class_ = 'illustrated-features__item--interior').get_text()\n",
    "            info = [title,zipcode,price,area,room,interior]\n",
    "            thewriter.writerow(info)\n",
    "       \n",
    "    \n"
   ]
  },
  {
   "cell_type": "code",
   "execution_count": null,
   "metadata": {},
   "outputs": [],
   "source": []
  }
 ],
 "metadata": {
  "kernelspec": {
   "display_name": "Python 3.9.7 64-bit",
   "language": "python",
   "name": "python3"
  },
  "language_info": {
   "codemirror_mode": {
    "name": "ipython",
    "version": 3
   },
   "file_extension": ".py",
   "mimetype": "text/x-python",
   "name": "python",
   "nbconvert_exporter": "python",
   "pygments_lexer": "ipython3",
   "version": "3.9.7"
  },
  "orig_nbformat": 4,
  "vscode": {
   "interpreter": {
    "hash": "13a35d56a18aab55447c6b2a1b9b865bd614175796a23fc49a0d7cf54bafbbb5"
   }
  }
 },
 "nbformat": 4,
 "nbformat_minor": 2
}
